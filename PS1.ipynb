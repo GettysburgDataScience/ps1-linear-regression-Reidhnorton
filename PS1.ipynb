{
 "cells": [
  {
   "cell_type": "markdown",
   "metadata": {},
   "source": [
    "Reid Norton\n",
    " - Collaborator 1\n",
    " - Collaborator 2\n",
    " - etc"
   ]
  },
  {
   "cell_type": "markdown",
   "metadata": {},
   "source": [
    "DS325, Gettysburg College, Professor Eatai Roth\n",
    "# Problem Set 1 - Linear Regression\n",
    "\n",
    "Due Friday Feb 13, 2025 11:30a\n",
    "\n",
    "Total pts: 20\n",
    "\n",
    "## IMPORTANT INSTRUCTIONS:\n",
    "\n",
    " - When you submit your code, make sure that every cell runs without returning an error.\n",
    " - Once you have the results you need, edit out any extraneous code and outputs.\n",
    " - Do not rewrite code if it doesn't need to be rewritten. For example, all the import statements you should need are in the first code block. Do not redo those in your analysis."
   ]
  },
  {
   "cell_type": "markdown",
   "metadata": {},
   "source": [
    "## Problem 1\n",
    "\n",
    " - Fit a linear regression model to the following synthetic data.\n",
    " - Calculate R^2 and MSE for your best fit model."
   ]
  },
  {
   "cell_type": "code",
   "execution_count": 5,
   "metadata": {},
   "outputs": [],
   "source": [
    "import pandas as pd\n",
    "import numpy as np\n",
    "import sklearn as sk\n",
    "\n",
    "from sklearn.datasets import make_regression\n",
    "from sklearn.model_selection import train_test_split\n",
    "from sklearn.linear_model import LinearRegression\n",
    "from sklearn.metrics import mean_squared_error \n",
    "\n",
    "\n",
    "import matplotlib.pyplot as plt\n",
    "import seaborn as sns\n"
   ]
  },
  {
   "cell_type": "code",
   "execution_count": 6,
   "metadata": {},
   "outputs": [
    {
     "data": {
      "text/html": [
       "<div>\n",
       "<style scoped>\n",
       "    .dataframe tbody tr th:only-of-type {\n",
       "        vertical-align: middle;\n",
       "    }\n",
       "\n",
       "    .dataframe tbody tr th {\n",
       "        vertical-align: top;\n",
       "    }\n",
       "\n",
       "    .dataframe thead th {\n",
       "        text-align: right;\n",
       "    }\n",
       "</style>\n",
       "<table border=\"1\" class=\"dataframe\">\n",
       "  <thead>\n",
       "    <tr style=\"text-align: right;\">\n",
       "      <th></th>\n",
       "      <th>x1</th>\n",
       "      <th>x2</th>\n",
       "      <th>x3</th>\n",
       "      <th>x4</th>\n",
       "      <th>x5</th>\n",
       "      <th>y</th>\n",
       "    </tr>\n",
       "  </thead>\n",
       "  <tbody>\n",
       "    <tr>\n",
       "      <th>0</th>\n",
       "      <td>1.624345</td>\n",
       "      <td>-0.611756</td>\n",
       "      <td>-0.528172</td>\n",
       "      <td>-1.072969</td>\n",
       "      <td>0.865408</td>\n",
       "      <td>28.865495</td>\n",
       "    </tr>\n",
       "    <tr>\n",
       "      <th>1</th>\n",
       "      <td>-2.301539</td>\n",
       "      <td>1.744812</td>\n",
       "      <td>-0.761207</td>\n",
       "      <td>0.319039</td>\n",
       "      <td>-0.249370</td>\n",
       "      <td>4.937580</td>\n",
       "    </tr>\n",
       "    <tr>\n",
       "      <th>2</th>\n",
       "      <td>1.462108</td>\n",
       "      <td>-2.060141</td>\n",
       "      <td>-0.322417</td>\n",
       "      <td>-0.384054</td>\n",
       "      <td>1.133769</td>\n",
       "      <td>-39.935140</td>\n",
       "    </tr>\n",
       "    <tr>\n",
       "      <th>3</th>\n",
       "      <td>-1.099891</td>\n",
       "      <td>-0.172428</td>\n",
       "      <td>-0.877858</td>\n",
       "      <td>0.042214</td>\n",
       "      <td>0.582815</td>\n",
       "      <td>-49.524568</td>\n",
       "    </tr>\n",
       "    <tr>\n",
       "      <th>4</th>\n",
       "      <td>-1.100619</td>\n",
       "      <td>1.144724</td>\n",
       "      <td>0.901591</td>\n",
       "      <td>0.502494</td>\n",
       "      <td>0.900856</td>\n",
       "      <td>244.382026</td>\n",
       "    </tr>\n",
       "    <tr>\n",
       "      <th>...</th>\n",
       "      <td>...</td>\n",
       "      <td>...</td>\n",
       "      <td>...</td>\n",
       "      <td>...</td>\n",
       "      <td>...</td>\n",
       "      <td>...</td>\n",
       "    </tr>\n",
       "    <tr>\n",
       "      <th>295</th>\n",
       "      <td>-0.081570</td>\n",
       "      <td>1.529248</td>\n",
       "      <td>0.686483</td>\n",
       "      <td>1.717089</td>\n",
       "      <td>-0.804277</td>\n",
       "      <td>343.244347</td>\n",
       "    </tr>\n",
       "    <tr>\n",
       "      <th>296</th>\n",
       "      <td>0.300254</td>\n",
       "      <td>-0.429596</td>\n",
       "      <td>0.805913</td>\n",
       "      <td>-0.219552</td>\n",
       "      <td>-0.251852</td>\n",
       "      <td>20.913333</td>\n",
       "    </tr>\n",
       "    <tr>\n",
       "      <th>297</th>\n",
       "      <td>-1.326490</td>\n",
       "      <td>0.308204</td>\n",
       "      <td>1.115489</td>\n",
       "      <td>1.008196</td>\n",
       "      <td>-3.016032</td>\n",
       "      <td>-8.753043</td>\n",
       "    </tr>\n",
       "    <tr>\n",
       "      <th>298</th>\n",
       "      <td>-1.619646</td>\n",
       "      <td>2.005141</td>\n",
       "      <td>-0.187626</td>\n",
       "      <td>-0.148941</td>\n",
       "      <td>1.165335</td>\n",
       "      <td>182.614426</td>\n",
       "    </tr>\n",
       "    <tr>\n",
       "      <th>299</th>\n",
       "      <td>0.196645</td>\n",
       "      <td>-0.632590</td>\n",
       "      <td>-0.209847</td>\n",
       "      <td>1.897161</td>\n",
       "      <td>-1.381391</td>\n",
       "      <td>85.990684</td>\n",
       "    </tr>\n",
       "  </tbody>\n",
       "</table>\n",
       "<p>300 rows × 6 columns</p>\n",
       "</div>"
      ],
      "text/plain": [
       "           x1        x2        x3        x4        x5           y\n",
       "0    1.624345 -0.611756 -0.528172 -1.072969  0.865408   28.865495\n",
       "1   -2.301539  1.744812 -0.761207  0.319039 -0.249370    4.937580\n",
       "2    1.462108 -2.060141 -0.322417 -0.384054  1.133769  -39.935140\n",
       "3   -1.099891 -0.172428 -0.877858  0.042214  0.582815  -49.524568\n",
       "4   -1.100619  1.144724  0.901591  0.502494  0.900856  244.382026\n",
       "..        ...       ...       ...       ...       ...         ...\n",
       "295 -0.081570  1.529248  0.686483  1.717089 -0.804277  343.244347\n",
       "296  0.300254 -0.429596  0.805913 -0.219552 -0.251852   20.913333\n",
       "297 -1.326490  0.308204  1.115489  1.008196 -3.016032   -8.753043\n",
       "298 -1.619646  2.005141 -0.187626 -0.148941  1.165335  182.614426\n",
       "299  0.196645 -0.632590 -0.209847  1.897161 -1.381391   85.990684\n",
       "\n",
       "[300 rows x 6 columns]"
      ]
     },
     "execution_count": 6,
     "metadata": {},
     "output_type": "execute_result"
    }
   ],
   "source": [
    "np.random.seed(1)\n",
    "bias = 20*np.random.randn()\n",
    "\n",
    "X, y, coef = sk.datasets.make_regression(n_samples=300, \n",
    "                                   n_features=5,    # n_features = 1 --> simple linear regression\n",
    "                                   noise=30, \n",
    "                                   bias = bias, \n",
    "                                   random_state=1, \n",
    "                                   shuffle = False, # samples will be in order\n",
    "                                   coef = True) \n",
    "\n",
    "column_names = [f'x{n+1}' for n in range(X.shape[1])]\n",
    "reg_df = pd.DataFrame(data = X, \n",
    "             columns = column_names)\n",
    "reg_df['y'] = y\n",
    "\n",
    "reg_df"
   ]
  },
  {
   "cell_type": "code",
   "execution_count": 13,
   "metadata": {},
   "outputs": [
    {
     "name": "stdout",
     "output_type": "stream",
     "text": [
      "{'fit_intercept': True, 'copy_X': True, 'n_jobs': None, 'positive': False, 'n_features_in_': 5, 'coef_': array([43.01982633, 78.191327  , 90.23161681, 86.00466389, 67.15251811]), 'rank_': 5, 'singular_': array([17.71005276, 15.69152836, 15.10553327, 14.55190806, 13.95642601]), 'intercept_': 34.543530804297}\n"
     ]
    }
   ],
   "source": [
    "#split data into training and testing sets\n",
    "X_train, X_test, y_train, y_test = train_test_split(X, y, test_size=0.2, random_state = 9)\n",
    "\n",
    "#create and fit the model\n",
    "LR_model = LinearRegression()\n",
    "LR_model.fit(X_train, y_train)\n",
    "\n",
    "y_pred_train = LR_model.predict(X_train)\n",
    "y_pred_test = LR_model.predict(X_test)\n",
    "\n",
    "R2_train = LR_model.score(X_train, y_train)\n",
    "R2_test = LR_model.score(X_test, y_test)\n",
    "\n",
    "MSE_train = mean_squared_error(y_train, y_pred_train)\n",
    "MSE_test = mean_squared_error(y_test, y_pred_test)\n",
    "\n",
    "print(LR_model.__dict__)\n",
    "\n"
   ]
  },
  {
   "cell_type": "code",
   "execution_count": 14,
   "metadata": {},
   "outputs": [
    {
     "name": "stdout",
     "output_type": "stream",
     "text": [
      "[42.54034656 81.07212336 94.18862462 86.99107733 70.39994983]\n"
     ]
    }
   ],
   "source": [
    "print(coef)"
   ]
  },
  {
   "cell_type": "markdown",
   "metadata": {},
   "source": [
    "#### Your written answers here\n",
    "\n",
    "What are your model parameters?\n",
    " - \n",
    "\n",
    "What were your MSE and R^2?\n",
    " - \n",
    "\n"
   ]
  },
  {
   "cell_type": "markdown",
   "metadata": {},
   "source": [
    "## Problem 2\n",
    "\n",
    "Multiple Regression with Synthetic Data and Co-linearity\n",
    "\n",
    " - Show the correlation matrix for the 10 variables and the target variable.\n",
    " - Fit a linear regression model to the following synthetic data.\n",
    " - Calculate R^2 and MSE for your best fit model."
   ]
  },
  {
   "cell_type": "code",
   "execution_count": null,
   "metadata": {},
   "outputs": [],
   "source": []
  },
  {
   "cell_type": "code",
   "execution_count": 18,
   "metadata": {},
   "outputs": [
    {
     "ename": "NameError",
     "evalue": "name 'print_model' is not defined",
     "output_type": "error",
     "traceback": [
      "\u001b[0;31m---------------------------------------------------------------------------\u001b[0m",
      "\u001b[0;31mNameError\u001b[0m                                 Traceback (most recent call last)",
      "Cell \u001b[0;32mIn[18], line 23\u001b[0m\n\u001b[1;32m     19\u001b[0m reg2_df \u001b[38;5;241m=\u001b[39m pd\u001b[38;5;241m.\u001b[39mDataFrame(data \u001b[38;5;241m=\u001b[39m X, \n\u001b[1;32m     20\u001b[0m              columns \u001b[38;5;241m=\u001b[39m column_names)\n\u001b[1;32m     21\u001b[0m reg2_df[\u001b[38;5;124m'\u001b[39m\u001b[38;5;124my\u001b[39m\u001b[38;5;124m'\u001b[39m] \u001b[38;5;241m=\u001b[39m y\n\u001b[0;32m---> 23\u001b[0m print_model(bias, coef, column_names, model_name \u001b[38;5;241m=\u001b[39m \u001b[38;5;124m'\u001b[39m\u001b[38;5;124mTrue Model\u001b[39m\u001b[38;5;124m'\u001b[39m)\n\u001b[1;32m     25\u001b[0m reg2_df\n",
      "\u001b[0;31mNameError\u001b[0m: name 'print_model' is not defined"
     ]
    }
   ],
   "source": [
    "np.random.seed(15)\n",
    "bias = 50*np.random.randn()\n",
    "\n",
    "X, y, coef = sk.datasets.make_regression(n_samples=300, \n",
    "                                   n_features=9,    # n_features = 1 --> simple linear regression\n",
    "                                   noise=3, \n",
    "                                   bias = bias, \n",
    "                                   n_informative = 6,\n",
    "                                   effective_rank = 6,\n",
    "                                   random_state=15, \n",
    "                                   shuffle = False, # samples will be in order\n",
    "                                   coef = True) \n",
    "\n",
    "Xa = (0.6*X[:, 2] + 0.4*X[:, 5]).reshape(-1, 1)\n",
    "X = np.hstack([X, Xa])\n",
    "coef = np.append(coef,0)\n",
    "\n",
    "column_names = [f'x{n+1}' for n in range(X.shape[1])]\n",
    "reg2_df = pd.DataFrame(data = X, \n",
    "             columns = column_names)\n",
    "reg2_df['y'] = y\n",
    "\n",
    "print_model(bias, coef, column_names, model_name = 'True Model')\n",
    "\n",
    "reg2_df"
   ]
  },
  {
   "cell_type": "code",
   "execution_count": 19,
   "metadata": {},
   "outputs": [
    {
     "data": {
      "text/html": [
       "<div>\n",
       "<style scoped>\n",
       "    .dataframe tbody tr th:only-of-type {\n",
       "        vertical-align: middle;\n",
       "    }\n",
       "\n",
       "    .dataframe tbody tr th {\n",
       "        vertical-align: top;\n",
       "    }\n",
       "\n",
       "    .dataframe thead th {\n",
       "        text-align: right;\n",
       "    }\n",
       "</style>\n",
       "<table border=\"1\" class=\"dataframe\">\n",
       "  <thead>\n",
       "    <tr style=\"text-align: right;\">\n",
       "      <th></th>\n",
       "      <th>x1</th>\n",
       "      <th>x2</th>\n",
       "      <th>x3</th>\n",
       "      <th>x4</th>\n",
       "      <th>x5</th>\n",
       "      <th>x6</th>\n",
       "      <th>x7</th>\n",
       "      <th>x8</th>\n",
       "      <th>x9</th>\n",
       "      <th>x10</th>\n",
       "      <th>y</th>\n",
       "    </tr>\n",
       "  </thead>\n",
       "  <tbody>\n",
       "    <tr>\n",
       "      <th>0</th>\n",
       "      <td>-0.019007</td>\n",
       "      <td>-0.081434</td>\n",
       "      <td>-0.014396</td>\n",
       "      <td>0.005781</td>\n",
       "      <td>0.041543</td>\n",
       "      <td>-0.030161</td>\n",
       "      <td>0.001037</td>\n",
       "      <td>-0.024288</td>\n",
       "      <td>-0.004252</td>\n",
       "      <td>-0.020702</td>\n",
       "      <td>-25.236430</td>\n",
       "    </tr>\n",
       "    <tr>\n",
       "      <th>1</th>\n",
       "      <td>0.008066</td>\n",
       "      <td>0.007271</td>\n",
       "      <td>-0.012255</td>\n",
       "      <td>-0.062581</td>\n",
       "      <td>0.032108</td>\n",
       "      <td>0.030362</td>\n",
       "      <td>-0.005309</td>\n",
       "      <td>-0.017288</td>\n",
       "      <td>0.012837</td>\n",
       "      <td>0.004792</td>\n",
       "      <td>-12.537903</td>\n",
       "    </tr>\n",
       "    <tr>\n",
       "      <th>2</th>\n",
       "      <td>0.032845</td>\n",
       "      <td>-0.063578</td>\n",
       "      <td>-0.009525</td>\n",
       "      <td>0.020147</td>\n",
       "      <td>-0.019702</td>\n",
       "      <td>-0.053699</td>\n",
       "      <td>-0.011607</td>\n",
       "      <td>-0.039859</td>\n",
       "      <td>-0.024391</td>\n",
       "      <td>-0.027195</td>\n",
       "      <td>-22.264183</td>\n",
       "    </tr>\n",
       "    <tr>\n",
       "      <th>3</th>\n",
       "      <td>-0.009999</td>\n",
       "      <td>-0.125704</td>\n",
       "      <td>0.015806</td>\n",
       "      <td>-0.008291</td>\n",
       "      <td>-0.057393</td>\n",
       "      <td>-0.063838</td>\n",
       "      <td>-0.005211</td>\n",
       "      <td>0.097825</td>\n",
       "      <td>-0.033332</td>\n",
       "      <td>-0.016052</td>\n",
       "      <td>-37.087455</td>\n",
       "    </tr>\n",
       "    <tr>\n",
       "      <th>4</th>\n",
       "      <td>-0.004742</td>\n",
       "      <td>0.057318</td>\n",
       "      <td>0.009264</td>\n",
       "      <td>-0.047371</td>\n",
       "      <td>0.032000</td>\n",
       "      <td>-0.038891</td>\n",
       "      <td>-0.037838</td>\n",
       "      <td>-0.076428</td>\n",
       "      <td>0.050613</td>\n",
       "      <td>-0.009998</td>\n",
       "      <td>-14.858578</td>\n",
       "    </tr>\n",
       "  </tbody>\n",
       "</table>\n",
       "</div>"
      ],
      "text/plain": [
       "         x1        x2        x3        x4        x5        x6        x7  \\\n",
       "0 -0.019007 -0.081434 -0.014396  0.005781  0.041543 -0.030161  0.001037   \n",
       "1  0.008066  0.007271 -0.012255 -0.062581  0.032108  0.030362 -0.005309   \n",
       "2  0.032845 -0.063578 -0.009525  0.020147 -0.019702 -0.053699 -0.011607   \n",
       "3 -0.009999 -0.125704  0.015806 -0.008291 -0.057393 -0.063838 -0.005211   \n",
       "4 -0.004742  0.057318  0.009264 -0.047371  0.032000 -0.038891 -0.037838   \n",
       "\n",
       "         x8        x9       x10          y  \n",
       "0 -0.024288 -0.004252 -0.020702 -25.236430  \n",
       "1 -0.017288  0.012837  0.004792 -12.537903  \n",
       "2 -0.039859 -0.024391 -0.027195 -22.264183  \n",
       "3  0.097825 -0.033332 -0.016052 -37.087455  \n",
       "4 -0.076428  0.050613 -0.009998 -14.858578  "
      ]
     },
     "execution_count": 19,
     "metadata": {},
     "output_type": "execute_result"
    }
   ],
   "source": [
    "reg2_df.head()"
   ]
  },
  {
   "cell_type": "code",
   "execution_count": 24,
   "metadata": {},
   "outputs": [
    {
     "data": {
      "image/png": "[encoded data removed]",
      "text/plain": [
       "<Figure size 640x480 with 2 Axes>"
      ]
     },
     "metadata": {},
     "output_type": "display_data"
    }
   ],
   "source": [
    "corr = reg2_df.corr()\n",
    "sns.heatmap(np.abs(corr), annot = True, fmt = '.2f')\n",
    "plt.show()"
   ]
  },
  {
   "cell_type": "code",
   "execution_count": 34,
   "metadata": {},
   "outputs": [
    {
     "name": "stdout",
     "output_type": "stream",
     "text": [
      "R2_train 0.87\n",
      "R2_test 0.86\n"
     ]
    }
   ],
   "source": [
    "candidate_idx = np.array([1, 2, 4, 5, 10]) - 1\n",
    "Z = X[:, candidate_idx]\n",
    "Z_names = [column_names[idx] for idx in candidate_idx]\n",
    "\n",
    "Z_train, Z_test, y_train, y_test = train_test_split(Z, y, test_size=0.2)\n",
    "model_LR = LinearRegression()\n",
    "model_LR.fit(Z_train, y_train)\n",
    "\n",
    "R2_train = model_LR.score(Z_train, y_train)\n",
    "R2_test = model_LR.score(Z_test, y_test)\n",
    "\n",
    "print(f'R2_train {R2_train:.2f}\\nR2_test {R2_test:.2f}')"
   ]
  },
  {
   "cell_type": "markdown",
   "metadata": {},
   "source": [
    "#### Your written answers here\n",
    "\n",
    "What are your model parameters?\n",
    " - \n",
    "\n",
    "Which features (x1, x2...) were significant? Which were co-linear?\n",
    " - \n",
    " \n",
    "What were your MSE and R^2?\n",
    " - \n",
    "\n"
   ]
  },
  {
   "cell_type": "markdown",
   "metadata": {},
   "source": [
    "## Problem 3\n",
    "\n",
    "For this problem, you'll using housing data from King County, Washington (included as kc_housing.csv).\n",
    "\n",
    "You should refer to the class notebook."
   ]
  },
  {
   "cell_type": "code",
   "execution_count": 6,
   "metadata": {},
   "outputs": [],
   "source": [
    "housing_df = pd.read_csv('kc_house_data.csv')"
   ]
  },
  {
   "cell_type": "markdown",
   "metadata": {},
   "source": [
    "### a. \n",
    "\n",
    "**Do this part before part b and then don't go back and change your responses.**\n",
    "\n",
    "- Select three features to use for a multiple linear regression and justify your choices.\n",
    "- Use the StandardScalar to scale your features. Fit a linear regression using those three features. What is your $R^2$?\n",
    "- Plot predicted home values and actual home values, including a line representing perfect prediction.\n"
   ]
  },
  {
   "cell_type": "code",
   "execution_count": null,
   "metadata": {},
   "outputs": [],
   "source": [
    "# Your code here. Add cells as needed."
   ]
  },
  {
   "cell_type": "markdown",
   "metadata": {},
   "source": [
    "#### Your written answers here\n",
    "Which features are you using and why?\n",
    " \n",
    " - Your written answer here."
   ]
  },
  {
   "cell_type": "markdown",
   "metadata": {},
   "source": [
    "### b. \n",
    "- Create a training and testing data using all the features except for price (that's the target), date, and zipcode. Once you have the dataframe of your features, save a list of column labels, ```feature_names = x.columns```.\n",
    "- Use Lasso or Ridge regression to fit the model and calculate the $R^2$. Play around with $\\alpha$ until you get $R^2 > 0.65$. Keep in mind that price is in the range of \\$100k-3M and the scaled features will be in the range of -2 to 2, so $\\alpha$ should be a big number.\n",
    "- Get the coefficients of the Ridge or Lasso model; their order corresponds to the feature labels you saved earlier. Find the 3 biggest (absolute value) coefficients. Which features are they? Look up ```np.argsort()```; this function returns the indices of a list once it's been sorted. \n",
    "- Plot predicted vs actual home prices for the regularized model. "
   ]
  },
  {
   "cell_type": "code",
   "execution_count": null,
   "metadata": {},
   "outputs": [],
   "source": [
    "# Your code here. Add cells as needed."
   ]
  },
  {
   "cell_type": "markdown",
   "metadata": {},
   "source": [
    "### Your written answers here\n",
    "Which regression did you use?\n",
    " - Your answer\n",
    "\n",
    "Does your regularized model look better than your MLR? How so?\n",
    " - Your answer"
   ]
  },
  {
   "cell_type": "markdown",
   "metadata": {},
   "source": [
    "### c.\n",
    "It seems that our model over-valuates houses in the higher price range.\n",
    " - Split the data into homes below and above $1M sale price. \n",
    " - Fit a Lasso or Ridge model to each of the split data sets.\n",
    " - Plot predicted vs actual."
   ]
  },
  {
   "cell_type": "markdown",
   "metadata": {},
   "source": [
    "<Your written answers>"
   ]
  },
  {
   "cell_type": "code",
   "execution_count": null,
   "metadata": {},
   "outputs": [],
   "source": [
    "# Your code here. Add cells as needed."
   ]
  },
  {
   "cell_type": "markdown",
   "metadata": {},
   "source": [
    " ### Your written answers here\n",
    "\n",
    " What are the $R^2$ for the two models?\n",
    "\n",
    "  - Your answer\n",
    " \n"
   ]
  }
 ],
 "metadata": {
  "kernelspec": {
   "display_name": "Python 3",
   "language": "python",
   "name": "python3"
  },
  "language_info": {
   "codemirror_mode": {
    "name": "ipython",
    "version": 3
   },
   "file_extension": ".py",
   "mimetype": "text/x-python",
   "name": "python",
   "nbconvert_exporter": "python",
   "pygments_lexer": "ipython3",
   "version": "3.12.7"
  },
  "orig_nbformat": 4
 },
 "nbformat": 4,
 "nbformat_minor": 2
}
